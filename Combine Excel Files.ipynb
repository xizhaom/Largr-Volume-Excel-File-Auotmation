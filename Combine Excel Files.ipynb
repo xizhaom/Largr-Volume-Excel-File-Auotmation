{
 "cells": [
  {
   "cell_type": "code",
   "execution_count": null,
   "id": "03d7cd25",
   "metadata": {},
   "outputs": [],
   "source": [
    "import os\n",
    "import pandas as pd\n",
    "cwd = os.path.abspath('') \n",
    "files = os.listdir(cwd) \n",
    "\n",
    "new_df = pd.DataFrame()\n",
    "for file in files:\n",
    "    print(file)\n",
    "    if file.endswith('.xlsx'):\n",
    "        xls = pd.read_excel(file, sheet_name = None)\n",
    "        sheet_name_list = []\n",
    "        for key in xls.keys():\n",
    "            sheet_name_list.append(key)\n",
    "        for sheet in sheet_name_list:\n",
    "            if 'Forms' in sheet:        \n",
    "                sheet_name = sheet\n",
    "        df = pd.read_excel(file, sheet_name=sheet_name)\n",
    "        df.drop([0,1,2,3],axis=\"index\")\n",
    "        df.columns = df.iloc[4]\n",
    "        df = df[5:]\n",
    "        df = df[['Column Name']]\n",
    "        df.reset_index(drop=True, inplace=True)\n",
    "        df\n",
    "        new_df = new_df.append(df, ignore_index=True)\n",
    "new_df.head(100)\n",
    "\n",
    "new_df.to_excel('xxx.xlsx')\n"
   ]
  }
 ],
 "metadata": {
  "kernelspec": {
   "display_name": "Python 3",
   "language": "python",
   "name": "python3"
  },
  "language_info": {
   "codemirror_mode": {
    "name": "ipython",
    "version": 3
   },
   "file_extension": ".py",
   "mimetype": "text/x-python",
   "name": "python",
   "nbconvert_exporter": "python",
   "pygments_lexer": "ipython3",
   "version": "3.8.8"
  }
 },
 "nbformat": 4,
 "nbformat_minor": 5
}
